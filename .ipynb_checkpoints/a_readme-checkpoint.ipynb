{
 "cells": [
  {
   "cell_type": "markdown",
   "metadata": {},
   "source": [
    "# Text Classification\n",
    "In this project, we used 3 different metrics (Information Gain, Mutual Information, Chi Squared) to find important words and then we used them for the classification task. We compared the result at the end. \n"
   ]
  },
  {
   "cell_type": "markdown",
   "metadata": {},
   "source": [
    "\n",
    "Each document can be represented by the set of its words. <br>\n",
    "But some words are more important and has more effect and more meaning. These words can be used for determining the context of a document. <br>\n",
    "In this part, we are going to find a set of 100 words that are more infomative for __document classification__. <br>\n"
   ]
  },
  {
   "cell_type": "markdown",
   "metadata": {},
   "source": [
    "## Data Set\n",
    "The dataset for this task is \"همشهری\" (Hamshahri) that contains 8600 persian documents. "
   ]
  },
  {
   "cell_type": "code",
   "execution_count": 3,
   "metadata": {},
   "outputs": [
    {
     "data": {
      "text/plain": [
       "['ورزش', 'اقتصاد', 'ادب و هنر', 'اجتماعی', 'سیاسی']"
      ]
     },
     "execution_count": 3,
     "metadata": {},
     "output_type": "execute_result"
    }
   ],
   "source": [
    "class_name"
   ]
  },
  {
   "cell_type": "markdown",
   "metadata": {},
   "source": [
    "There is some statistcs information about out dataset."
   ]
  },
  {
   "cell_type": "code",
   "execution_count": 4,
   "metadata": {},
   "outputs": [
    {
     "name": "stdout",
     "output_type": "stream",
     "text": [
      "vocab size: 65880\n",
      "number of terms (all tokens): 3506727\n",
      "number of docs: 8600\n",
      "number of classes: 5\n"
     ]
    }
   ],
   "source": [
    "print(\"vocab size:\", len(vocab))\n",
    "print (\"number of terms (all tokens):\", number_of_terms)\n",
    "print (\"number of docs:\", number_of_docs)\n",
    "print (\"number of classes:\", cls_index)"
   ]
  },
  {
   "cell_type": "markdown",
   "metadata": {},
   "source": [
    "The probability of each classes are stored in the table below."
   ]
  },
  {
   "cell_type": "code",
   "execution_count": 6,
   "metadata": {},
   "outputs": [
    {
     "data": {
      "text/html": [
       "<div>\n",
       "<style>\n",
       "    .dataframe thead tr:only-child th {\n",
       "        text-align: right;\n",
       "    }\n",
       "\n",
       "    .dataframe thead th {\n",
       "        text-align: left;\n",
       "    }\n",
       "\n",
       "    .dataframe tbody tr th {\n",
       "        vertical-align: top;\n",
       "    }\n",
       "</style>\n",
       "<table border=\"1\" class=\"dataframe\">\n",
       "  <thead>\n",
       "    <tr style=\"text-align: right;\">\n",
       "      <th></th>\n",
       "      <th>0</th>\n",
       "    </tr>\n",
       "  </thead>\n",
       "  <tbody>\n",
       "    <tr>\n",
       "      <th>0</th>\n",
       "      <td>0.232558</td>\n",
       "    </tr>\n",
       "    <tr>\n",
       "      <th>1</th>\n",
       "      <td>0.255814</td>\n",
       "    </tr>\n",
       "    <tr>\n",
       "      <th>2</th>\n",
       "      <td>0.058140</td>\n",
       "    </tr>\n",
       "    <tr>\n",
       "      <th>3</th>\n",
       "      <td>0.209302</td>\n",
       "    </tr>\n",
       "    <tr>\n",
       "      <th>4</th>\n",
       "      <td>0.244186</td>\n",
       "    </tr>\n",
       "  </tbody>\n",
       "</table>\n",
       "</div>"
      ],
      "text/plain": [
       "          0\n",
       "0  0.232558\n",
       "1  0.255814\n",
       "2  0.058140\n",
       "3  0.209302\n",
       "4  0.244186"
      ]
     },
     "execution_count": 6,
     "metadata": {},
     "output_type": "execute_result"
    }
   ],
   "source": [
    "tmp_view = pd.DataFrame(probability_of_classess)\n",
    "tmp_view"
   ]
  },
  {
   "cell_type": "markdown",
   "metadata": {},
   "source": [
    "   # Calculation  of our metrics for each words in Vocabulary\n",
    "   We are going to find 100 words that are good indicator of classes. <br>\n",
    "   We want to use 3 different type of metrics  \n",
    "   > -  Information Gain  \n",
    "   > -  Mutual Information  \n",
    "   > -  $\\chi$ square   \n",
    "   \n",
    "   "
   ]
  },
  {
   "cell_type": "markdown",
   "metadata": {},
   "source": [
    "## Information Gain\n",
    "The top 10 words with highest information gain can be seen in the table below."
   ]
  },
  {
   "cell_type": "code",
   "execution_count": 13,
   "metadata": {},
   "outputs": [
    {
     "data": {
      "text/html": [
       "<div>\n",
       "<style>\n",
       "    .dataframe thead tr:only-child th {\n",
       "        text-align: right;\n",
       "    }\n",
       "\n",
       "    .dataframe thead th {\n",
       "        text-align: left;\n",
       "    }\n",
       "\n",
       "    .dataframe tbody tr th {\n",
       "        vertical-align: top;\n",
       "    }\n",
       "</style>\n",
       "<table border=\"1\" class=\"dataframe\">\n",
       "  <thead>\n",
       "    <tr style=\"text-align: right;\">\n",
       "      <th></th>\n",
       "      <th>information_gain</th>\n",
       "      <th>word</th>\n",
       "    </tr>\n",
       "  </thead>\n",
       "  <tbody>\n",
       "    <tr>\n",
       "      <th>0</th>\n",
       "      <td>0.612973</td>\n",
       "      <td>ورزشی</td>\n",
       "    </tr>\n",
       "    <tr>\n",
       "      <th>1</th>\n",
       "      <td>0.516330</td>\n",
       "      <td>تیم</td>\n",
       "    </tr>\n",
       "    <tr>\n",
       "      <th>2</th>\n",
       "      <td>0.297086</td>\n",
       "      <td>اجتماعی</td>\n",
       "    </tr>\n",
       "    <tr>\n",
       "      <th>3</th>\n",
       "      <td>0.293313</td>\n",
       "      <td>سیاسی</td>\n",
       "    </tr>\n",
       "    <tr>\n",
       "      <th>4</th>\n",
       "      <td>0.283891</td>\n",
       "      <td>فوتبال</td>\n",
       "    </tr>\n",
       "    <tr>\n",
       "      <th>5</th>\n",
       "      <td>0.267878</td>\n",
       "      <td>اقتصادی</td>\n",
       "    </tr>\n",
       "    <tr>\n",
       "      <th>6</th>\n",
       "      <td>0.225276</td>\n",
       "      <td>بازی</td>\n",
       "    </tr>\n",
       "    <tr>\n",
       "      <th>7</th>\n",
       "      <td>0.223381</td>\n",
       "      <td>جام</td>\n",
       "    </tr>\n",
       "    <tr>\n",
       "      <th>8</th>\n",
       "      <td>0.197755</td>\n",
       "      <td>قهرمانی</td>\n",
       "    </tr>\n",
       "    <tr>\n",
       "      <th>9</th>\n",
       "      <td>0.177807</td>\n",
       "      <td>اسلامی</td>\n",
       "    </tr>\n",
       "  </tbody>\n",
       "</table>\n",
       "</div>"
      ],
      "text/plain": [
       "   information_gain     word\n",
       "0          0.612973    ورزشی\n",
       "1          0.516330      تیم\n",
       "2          0.297086  اجتماعی\n",
       "3          0.293313    سیاسی\n",
       "4          0.283891   فوتبال\n",
       "5          0.267878  اقتصادی\n",
       "6          0.225276     بازی\n",
       "7          0.223381      جام\n",
       "8          0.197755  قهرمانی\n",
       "9          0.177807   اسلامی"
      ]
     },
     "execution_count": 13,
     "metadata": {},
     "output_type": "execute_result"
    }
   ],
   "source": [
    "preview.head(10)"
   ]
  },
  {
   "cell_type": "markdown",
   "metadata": {},
   "source": [
    "If you think about the meaning of these words you can agree that since they a have high information gain they can be really good identifiers for categorizing a doc. <br>\n",
    "In the table below, you can see 5 worst words."
   ]
  },
  {
   "cell_type": "code",
   "execution_count": 14,
   "metadata": {},
   "outputs": [
    {
     "data": {
      "text/html": [
       "<div>\n",
       "<style>\n",
       "    .dataframe thead tr:only-child th {\n",
       "        text-align: right;\n",
       "    }\n",
       "\n",
       "    .dataframe thead th {\n",
       "        text-align: left;\n",
       "    }\n",
       "\n",
       "    .dataframe tbody tr th {\n",
       "        vertical-align: top;\n",
       "    }\n",
       "</style>\n",
       "<table border=\"1\" class=\"dataframe\">\n",
       "  <thead>\n",
       "    <tr style=\"text-align: right;\">\n",
       "      <th></th>\n",
       "      <th>information_gain</th>\n",
       "      <th>word</th>\n",
       "    </tr>\n",
       "  </thead>\n",
       "  <tbody>\n",
       "    <tr>\n",
       "      <th>65875</th>\n",
       "      <td>0.000042</td>\n",
       "      <td>تبهکاران</td>\n",
       "    </tr>\n",
       "    <tr>\n",
       "      <th>65876</th>\n",
       "      <td>0.000042</td>\n",
       "      <td>پذیرفتم</td>\n",
       "    </tr>\n",
       "    <tr>\n",
       "      <th>65877</th>\n",
       "      <td>0.000041</td>\n",
       "      <td>توقف</td>\n",
       "    </tr>\n",
       "    <tr>\n",
       "      <th>65878</th>\n",
       "      <td>0.000031</td>\n",
       "      <td>سلمان</td>\n",
       "    </tr>\n",
       "    <tr>\n",
       "      <th>65879</th>\n",
       "      <td>0.000027</td>\n",
       "      <td>چهارمحال</td>\n",
       "    </tr>\n",
       "  </tbody>\n",
       "</table>\n",
       "</div>"
      ],
      "text/plain": [
       "       information_gain      word\n",
       "65875          0.000042  تبهکاران\n",
       "65876          0.000042   پذیرفتم\n",
       "65877          0.000041      توقف\n",
       "65878          0.000031     سلمان\n",
       "65879          0.000027  چهارمحال"
      ]
     },
     "execution_count": 14,
     "metadata": {},
     "output_type": "execute_result"
    }
   ],
   "source": [
    "preview.tail(5)"
   ]
  },
  {
   "cell_type": "markdown",
   "metadata": {},
   "source": [
    "## Mutual Information\n",
    "We found two formulas for this metrics. The first one only calculates the MI in the case that w = 1, ci = 1. The second one calculates all 4 possible combinations of (w, ci) and multiplies them by their probabilities.  <br>\n",
    "We used both of them and then choose the better set. <br> \n",
    "Let's see the result of each of those different formulas."
   ]
  },
  {
   "cell_type": "markdown",
   "metadata": {},
   "source": [
    "### First Formula   \n",
    "The formula is:"
   ]
  },
  {
   "cell_type": "markdown",
   "metadata": {},
   "source": [
    "$$MI(w, c_i) = \\log{\\frac{p(w, c_i)}{p(w)*p(c_i)}}$$"
   ]
  },
  {
   "cell_type": "markdown",
   "metadata": {},
   "source": [
    "The result for this formula"
   ]
  },
  {
   "cell_type": "code",
   "execution_count": 17,
   "metadata": {},
   "outputs": [
    {
     "data": {
      "text/html": [
       "<div>\n",
       "<style>\n",
       "    .dataframe thead tr:only-child th {\n",
       "        text-align: right;\n",
       "    }\n",
       "\n",
       "    .dataframe thead th {\n",
       "        text-align: left;\n",
       "    }\n",
       "\n",
       "    .dataframe tbody tr th {\n",
       "        vertical-align: top;\n",
       "    }\n",
       "</style>\n",
       "<table border=\"1\" class=\"dataframe\">\n",
       "  <thead>\n",
       "    <tr style=\"text-align: right;\">\n",
       "      <th></th>\n",
       "      <th>mutual information(MI)</th>\n",
       "      <th>main class MI</th>\n",
       "      <th>main_class</th>\n",
       "      <th>word</th>\n",
       "    </tr>\n",
       "  </thead>\n",
       "  <tbody>\n",
       "    <tr>\n",
       "      <th>0</th>\n",
       "      <td>0.524418</td>\n",
       "      <td>1.782409</td>\n",
       "      <td>ادب و هنر</td>\n",
       "      <td>مایکروسافت</td>\n",
       "    </tr>\n",
       "    <tr>\n",
       "      <th>1</th>\n",
       "      <td>0.524418</td>\n",
       "      <td>1.782409</td>\n",
       "      <td>ادب و هنر</td>\n",
       "      <td>باغات</td>\n",
       "    </tr>\n",
       "    <tr>\n",
       "      <th>2</th>\n",
       "      <td>0.524418</td>\n",
       "      <td>1.782409</td>\n",
       "      <td>ادب و هنر</td>\n",
       "      <td>نباریدن</td>\n",
       "    </tr>\n",
       "    <tr>\n",
       "      <th>3</th>\n",
       "      <td>0.524191</td>\n",
       "      <td>1.703799</td>\n",
       "      <td>اقتصاد</td>\n",
       "      <td>آلیاژی</td>\n",
       "    </tr>\n",
       "    <tr>\n",
       "      <th>4</th>\n",
       "      <td>0.524191</td>\n",
       "      <td>1.703799</td>\n",
       "      <td>اقتصاد</td>\n",
       "      <td>دادمان</td>\n",
       "    </tr>\n",
       "    <tr>\n",
       "      <th>5</th>\n",
       "      <td>0.524191</td>\n",
       "      <td>1.703799</td>\n",
       "      <td>اقتصاد</td>\n",
       "      <td>فرازها</td>\n",
       "    </tr>\n",
       "    <tr>\n",
       "      <th>6</th>\n",
       "      <td>0.524191</td>\n",
       "      <td>1.703799</td>\n",
       "      <td>اقتصاد</td>\n",
       "      <td>سیاتل</td>\n",
       "    </tr>\n",
       "    <tr>\n",
       "      <th>7</th>\n",
       "      <td>0.521680</td>\n",
       "      <td>1.782409</td>\n",
       "      <td>ادب و هنر</td>\n",
       "      <td>سخیف</td>\n",
       "    </tr>\n",
       "    <tr>\n",
       "      <th>8</th>\n",
       "      <td>0.521680</td>\n",
       "      <td>1.782409</td>\n",
       "      <td>ادب و هنر</td>\n",
       "      <td>کارناوال</td>\n",
       "    </tr>\n",
       "    <tr>\n",
       "      <th>9</th>\n",
       "      <td>0.521680</td>\n",
       "      <td>1.782409</td>\n",
       "      <td>ادب و هنر</td>\n",
       "      <td>تحتانی</td>\n",
       "    </tr>\n",
       "  </tbody>\n",
       "</table>\n",
       "</div>"
      ],
      "text/plain": [
       "   mutual information(MI)  main class MI main_class        word\n",
       "0                0.524418       1.782409  ادب و هنر  مایکروسافت\n",
       "1                0.524418       1.782409  ادب و هنر       باغات\n",
       "2                0.524418       1.782409  ادب و هنر     نباریدن\n",
       "3                0.524191       1.703799     اقتصاد      آلیاژی\n",
       "4                0.524191       1.703799     اقتصاد      دادمان\n",
       "5                0.524191       1.703799     اقتصاد      فرازها\n",
       "6                0.524191       1.703799     اقتصاد       سیاتل\n",
       "7                0.521680       1.782409  ادب و هنر        سخیف\n",
       "8                0.521680       1.782409  ادب و هنر    کارناوال\n",
       "9                0.521680       1.782409  ادب و هنر      تحتانی"
      ]
     },
     "execution_count": 17,
     "metadata": {},
     "output_type": "execute_result"
    }
   ],
   "source": [
    "preview.head(10)"
   ]
  },
  {
   "cell_type": "markdown",
   "metadata": {},
   "source": [
    "#### <font color=red>But there is a __problem__ here  \n",
    "The words in the above table are __infrequent__  words.<br>\n",
    "They can give us high information in the case that they appear in our text. But when they __do not appear__ in our document, the absence of those words __do not give__ us any information about the class. So these words are only useful for those documents that have these words. So for most of the documents, these words are not useful.<br>\n",
    "It seems like it is important to consider the frequency of different cases of (w, ci) and also its mutual information. <br>\n",
    "    \n",
    "You can see the number of occurrences of some of these words in each class:"
   ]
  },
  {
   "cell_type": "code",
   "execution_count": 18,
   "metadata": {},
   "outputs": [
    {
     "data": {
      "text/plain": [
       "(array([0, 4, 1, 0, 0]), array([0, 4, 1, 0, 0]), array([0, 5, 1, 0, 0]))"
      ]
     },
     "execution_count": 18,
     "metadata": {},
     "output_type": "execute_result"
    }
   ],
   "source": [
    "word_occurance_frequency_vs_class[word_index['نباریدن']], word_occurance_frequency_vs_class[word_index['مایکروسافت']],  word_occurance_frequency_vs_class[word_index['آلیاژی']]"
   ]
  },
  {
   "cell_type": "code",
   "execution_count": 19,
   "metadata": {},
   "outputs": [],
   "source": [
    "word_mi_information_model_1=word_mi_information"
   ]
  },
  {
   "cell_type": "markdown",
   "metadata": {},
   "source": [
    "### Second Model\n",
    "In the second model, the above problem is solved because we multiplied the frequency of different cases (probability) by its mutual information. "
   ]
  },
  {
   "cell_type": "markdown",
   "metadata": {},
   "source": [
    "The Second formula is:"
   ]
  },
  {
   "cell_type": "markdown",
   "metadata": {},
   "source": [
    "$$MI(w, c_i) = \\sum_{i,j \\subset \\{ 0 , 1 \\}} {p(w=i, c_i=j)} * \\log{\\frac{p(w=i, c_i=j)}{p(w=i)*p(c_i=j)}} $$\n",
    "\n"
   ]
  },
  {
   "cell_type": "code",
   "execution_count": 22,
   "metadata": {},
   "outputs": [
    {
     "data": {
      "text/html": [
       "<div>\n",
       "<style>\n",
       "    .dataframe thead tr:only-child th {\n",
       "        text-align: right;\n",
       "    }\n",
       "\n",
       "    .dataframe thead th {\n",
       "        text-align: left;\n",
       "    }\n",
       "\n",
       "    .dataframe tbody tr th {\n",
       "        vertical-align: top;\n",
       "    }\n",
       "</style>\n",
       "<table border=\"1\" class=\"dataframe\">\n",
       "  <thead>\n",
       "    <tr style=\"text-align: right;\">\n",
       "      <th></th>\n",
       "      <th>mutual information(MI)</th>\n",
       "      <th>main class MI</th>\n",
       "      <th>main_class</th>\n",
       "      <th>word</th>\n",
       "    </tr>\n",
       "  </thead>\n",
       "  <tbody>\n",
       "    <tr>\n",
       "      <th>0</th>\n",
       "      <td>0.202674</td>\n",
       "      <td>0.606665</td>\n",
       "      <td>ورزش</td>\n",
       "      <td>ورزشی</td>\n",
       "    </tr>\n",
       "    <tr>\n",
       "      <th>1</th>\n",
       "      <td>0.173929</td>\n",
       "      <td>0.512590</td>\n",
       "      <td>ورزش</td>\n",
       "      <td>تیم</td>\n",
       "    </tr>\n",
       "    <tr>\n",
       "      <th>2</th>\n",
       "      <td>0.099833</td>\n",
       "      <td>0.279402</td>\n",
       "      <td>ورزش</td>\n",
       "      <td>فوتبال</td>\n",
       "    </tr>\n",
       "    <tr>\n",
       "      <th>3</th>\n",
       "      <td>0.094818</td>\n",
       "      <td>0.258578</td>\n",
       "      <td>سیاسی</td>\n",
       "      <td>سیاسی</td>\n",
       "    </tr>\n",
       "    <tr>\n",
       "      <th>4</th>\n",
       "      <td>0.088517</td>\n",
       "      <td>0.232945</td>\n",
       "      <td>اقتصاد</td>\n",
       "      <td>اقتصادی</td>\n",
       "    </tr>\n",
       "    <tr>\n",
       "      <th>5</th>\n",
       "      <td>0.085858</td>\n",
       "      <td>0.265246</td>\n",
       "      <td>اجتماعی</td>\n",
       "      <td>اجتماعی</td>\n",
       "    </tr>\n",
       "    <tr>\n",
       "      <th>6</th>\n",
       "      <td>0.076582</td>\n",
       "      <td>0.209092</td>\n",
       "      <td>ورزش</td>\n",
       "      <td>بازی</td>\n",
       "    </tr>\n",
       "    <tr>\n",
       "      <th>7</th>\n",
       "      <td>0.076098</td>\n",
       "      <td>0.217883</td>\n",
       "      <td>ورزش</td>\n",
       "      <td>جام</td>\n",
       "    </tr>\n",
       "    <tr>\n",
       "      <th>8</th>\n",
       "      <td>0.070387</td>\n",
       "      <td>0.195426</td>\n",
       "      <td>ورزش</td>\n",
       "      <td>قهرمانی</td>\n",
       "    </tr>\n",
       "    <tr>\n",
       "      <th>9</th>\n",
       "      <td>0.056253</td>\n",
       "      <td>0.155666</td>\n",
       "      <td>ورزش</td>\n",
       "      <td>بازیکن</td>\n",
       "    </tr>\n",
       "  </tbody>\n",
       "</table>\n",
       "</div>"
      ],
      "text/plain": [
       "   mutual information(MI)  main class MI main_class     word\n",
       "0                0.202674       0.606665       ورزش    ورزشی\n",
       "1                0.173929       0.512590       ورزش      تیم\n",
       "2                0.099833       0.279402       ورزش   فوتبال\n",
       "3                0.094818       0.258578      سیاسی    سیاسی\n",
       "4                0.088517       0.232945     اقتصاد  اقتصادی\n",
       "5                0.085858       0.265246    اجتماعی  اجتماعی\n",
       "6                0.076582       0.209092       ورزش     بازی\n",
       "7                0.076098       0.217883       ورزش      جام\n",
       "8                0.070387       0.195426       ورزش  قهرمانی\n",
       "9                0.056253       0.155666       ورزش   بازیکن"
      ]
     },
     "execution_count": 22,
     "metadata": {},
     "output_type": "execute_result"
    }
   ],
   "source": [
    "preview.head(10)"
   ]
  },
  {
   "cell_type": "markdown",
   "metadata": {},
   "source": [
    "#### These words are better\n",
    "They are not __rare__ <br> \n",
    "You can see the frequency of some of these words in each classes:"
   ]
  },
  {
   "cell_type": "code",
   "execution_count": 23,
   "metadata": {},
   "outputs": [
    {
     "name": "stdout",
     "output_type": "stream",
     "text": [
      "['سیاسی', 'اجتماعی', 'ادب و هنر', 'اقتصاد', 'ورزش']\n"
     ]
    },
    {
     "data": {
      "text/plain": [
       "(array([1866,    9,    8,   66,   16]),\n",
       " array([  35,  300,   71,  372, 1602]),\n",
       " array([497,  44,  24,  60, 191]))"
      ]
     },
     "execution_count": 23,
     "metadata": {},
     "output_type": "execute_result"
    }
   ],
   "source": [
    "print (list(reversed(class_name)))\n",
    "word_occurance_frequency_vs_class[word_index['ورزشی']], word_occurance_frequency_vs_class[word_index['سیاسی']],  word_occurance_frequency_vs_class[word_index['پیروزی']],"
   ]
  },
  {
   "cell_type": "markdown",
   "metadata": {},
   "source": [
    "## $ \\chi$ Squared\n",
    "Another Metric is $ \\chi$ Squared. <br>\n",
    "Now we are goind to see the result of using $\\chi$ squared as a mesure of importance."
   ]
  },
  {
   "cell_type": "code",
   "execution_count": 26,
   "metadata": {},
   "outputs": [
    {
     "data": {
      "text/html": [
       "<div>\n",
       "<style>\n",
       "    .dataframe thead tr:only-child th {\n",
       "        text-align: right;\n",
       "    }\n",
       "\n",
       "    .dataframe thead th {\n",
       "        text-align: left;\n",
       "    }\n",
       "\n",
       "    .dataframe tbody tr th {\n",
       "        vertical-align: top;\n",
       "    }\n",
       "</style>\n",
       "<table border=\"1\" class=\"dataframe\">\n",
       "  <thead>\n",
       "    <tr style=\"text-align: right;\">\n",
       "      <th></th>\n",
       "      <th>chi squared</th>\n",
       "      <th>main class chi</th>\n",
       "      <th>main_class</th>\n",
       "      <th>word</th>\n",
       "    </tr>\n",
       "  </thead>\n",
       "  <tbody>\n",
       "    <tr>\n",
       "      <th>0</th>\n",
       "      <td>2234.591600</td>\n",
       "      <td>7376.515420</td>\n",
       "      <td>ورزش</td>\n",
       "      <td>ورزشی</td>\n",
       "    </tr>\n",
       "    <tr>\n",
       "      <th>1</th>\n",
       "      <td>2028.186959</td>\n",
       "      <td>6701.136193</td>\n",
       "      <td>ورزش</td>\n",
       "      <td>تیم</td>\n",
       "    </tr>\n",
       "    <tr>\n",
       "      <th>2</th>\n",
       "      <td>1302.947803</td>\n",
       "      <td>4296.622009</td>\n",
       "      <td>ورزش</td>\n",
       "      <td>فوتبال</td>\n",
       "    </tr>\n",
       "    <tr>\n",
       "      <th>3</th>\n",
       "      <td>1050.289281</td>\n",
       "      <td>3459.737651</td>\n",
       "      <td>ورزش</td>\n",
       "      <td>جام</td>\n",
       "    </tr>\n",
       "    <tr>\n",
       "      <th>4</th>\n",
       "      <td>1043.478941</td>\n",
       "      <td>3138.957039</td>\n",
       "      <td>سیاسی</td>\n",
       "      <td>سیاسی</td>\n",
       "    </tr>\n",
       "    <tr>\n",
       "      <th>5</th>\n",
       "      <td>1029.481451</td>\n",
       "      <td>3055.759330</td>\n",
       "      <td>اقتصاد</td>\n",
       "      <td>اقتصادی</td>\n",
       "    </tr>\n",
       "    <tr>\n",
       "      <th>6</th>\n",
       "      <td>1027.311167</td>\n",
       "      <td>3254.137538</td>\n",
       "      <td>ورزش</td>\n",
       "      <td>بازی</td>\n",
       "    </tr>\n",
       "    <tr>\n",
       "      <th>7</th>\n",
       "      <td>967.923254</td>\n",
       "      <td>3299.353018</td>\n",
       "      <td>اجتماعی</td>\n",
       "      <td>اجتماعی</td>\n",
       "    </tr>\n",
       "    <tr>\n",
       "      <th>8</th>\n",
       "      <td>961.078769</td>\n",
       "      <td>3169.912598</td>\n",
       "      <td>ورزش</td>\n",
       "      <td>قهرمانی</td>\n",
       "    </tr>\n",
       "    <tr>\n",
       "      <th>9</th>\n",
       "      <td>772.041205</td>\n",
       "      <td>2558.041173</td>\n",
       "      <td>ورزش</td>\n",
       "      <td>بازیکن</td>\n",
       "    </tr>\n",
       "  </tbody>\n",
       "</table>\n",
       "</div>"
      ],
      "text/plain": [
       "   chi squared   main class chi main_class     word\n",
       "0   2234.591600     7376.515420       ورزش    ورزشی\n",
       "1   2028.186959     6701.136193       ورزش      تیم\n",
       "2   1302.947803     4296.622009       ورزش   فوتبال\n",
       "3   1050.289281     3459.737651       ورزش      جام\n",
       "4   1043.478941     3138.957039      سیاسی    سیاسی\n",
       "5   1029.481451     3055.759330     اقتصاد  اقتصادی\n",
       "6   1027.311167     3254.137538       ورزش     بازی\n",
       "7    967.923254     3299.353018    اجتماعی  اجتماعی\n",
       "8    961.078769     3169.912598       ورزش  قهرمانی\n",
       "9    772.041205     2558.041173       ورزش   بازیکن"
      ]
     },
     "execution_count": 26,
     "metadata": {},
     "output_type": "execute_result"
    }
   ],
   "source": [
    "preview.head(10)"
   ]
  },
  {
   "cell_type": "markdown",
   "metadata": {},
   "source": [
    "## Result Comparison\n",
    "We can compare our three set of words here. <br>\n",
    "In the table below, you can see top 20 words for each metrics.<br>\n",
    "For mutual information, there are two sets because we used two different formula."
   ]
  },
  {
   "cell_type": "code",
   "execution_count": 28,
   "metadata": {},
   "outputs": [
    {
     "data": {
      "text/html": [
       "<div>\n",
       "<style>\n",
       "    .dataframe thead tr:only-child th {\n",
       "        text-align: right;\n",
       "    }\n",
       "\n",
       "    .dataframe thead th {\n",
       "        text-align: left;\n",
       "    }\n",
       "\n",
       "    .dataframe tbody tr th {\n",
       "        vertical-align: top;\n",
       "    }\n",
       "</style>\n",
       "<table border=\"1\" class=\"dataframe\">\n",
       "  <thead>\n",
       "    <tr style=\"text-align: right;\">\n",
       "      <th></th>\n",
       "      <th>information gain1</th>\n",
       "      <th>chi squared1</th>\n",
       "      <th>mutual information_model_2</th>\n",
       "      <th>mutual information_model_1</th>\n",
       "    </tr>\n",
       "  </thead>\n",
       "  <tbody>\n",
       "    <tr>\n",
       "      <th>0</th>\n",
       "      <td>ورزشی</td>\n",
       "      <td>ورزشی</td>\n",
       "      <td>ورزشی</td>\n",
       "      <td>مایکروسافت</td>\n",
       "    </tr>\n",
       "    <tr>\n",
       "      <th>1</th>\n",
       "      <td>تیم</td>\n",
       "      <td>تیم</td>\n",
       "      <td>تیم</td>\n",
       "      <td>باغات</td>\n",
       "    </tr>\n",
       "    <tr>\n",
       "      <th>2</th>\n",
       "      <td>اجتماعی</td>\n",
       "      <td>فوتبال</td>\n",
       "      <td>فوتبال</td>\n",
       "      <td>نباریدن</td>\n",
       "    </tr>\n",
       "    <tr>\n",
       "      <th>3</th>\n",
       "      <td>سیاسی</td>\n",
       "      <td>جام</td>\n",
       "      <td>سیاسی</td>\n",
       "      <td>آلیاژی</td>\n",
       "    </tr>\n",
       "    <tr>\n",
       "      <th>4</th>\n",
       "      <td>فوتبال</td>\n",
       "      <td>سیاسی</td>\n",
       "      <td>اقتصادی</td>\n",
       "      <td>دادمان</td>\n",
       "    </tr>\n",
       "    <tr>\n",
       "      <th>5</th>\n",
       "      <td>اقتصادی</td>\n",
       "      <td>اقتصادی</td>\n",
       "      <td>اجتماعی</td>\n",
       "      <td>فرازها</td>\n",
       "    </tr>\n",
       "    <tr>\n",
       "      <th>6</th>\n",
       "      <td>بازی</td>\n",
       "      <td>بازی</td>\n",
       "      <td>بازی</td>\n",
       "      <td>سیاتل</td>\n",
       "    </tr>\n",
       "    <tr>\n",
       "      <th>7</th>\n",
       "      <td>جام</td>\n",
       "      <td>اجتماعی</td>\n",
       "      <td>جام</td>\n",
       "      <td>سخیف</td>\n",
       "    </tr>\n",
       "    <tr>\n",
       "      <th>8</th>\n",
       "      <td>قهرمانی</td>\n",
       "      <td>قهرمانی</td>\n",
       "      <td>قهرمانی</td>\n",
       "      <td>کارناوال</td>\n",
       "    </tr>\n",
       "    <tr>\n",
       "      <th>9</th>\n",
       "      <td>اسلامی</td>\n",
       "      <td>بازیکن</td>\n",
       "      <td>بازیکن</td>\n",
       "      <td>تحتانی</td>\n",
       "    </tr>\n",
       "    <tr>\n",
       "      <th>10</th>\n",
       "      <td>بازیکن</td>\n",
       "      <td>بازیکنان</td>\n",
       "      <td>اسلامی</td>\n",
       "      <td>معراج</td>\n",
       "    </tr>\n",
       "    <tr>\n",
       "      <th>11</th>\n",
       "      <td>مجلس</td>\n",
       "      <td>فدراسیون</td>\n",
       "      <td>بازیکنان</td>\n",
       "      <td>خلافت</td>\n",
       "    </tr>\n",
       "    <tr>\n",
       "      <th>12</th>\n",
       "      <td>بازیکنان</td>\n",
       "      <td>مسابقات</td>\n",
       "      <td>فدراسیون</td>\n",
       "      <td>نجیب</td>\n",
       "    </tr>\n",
       "    <tr>\n",
       "      <th>13</th>\n",
       "      <td>فدراسیون</td>\n",
       "      <td>دلار</td>\n",
       "      <td>مسابقات</td>\n",
       "      <td>زبون</td>\n",
       "    </tr>\n",
       "    <tr>\n",
       "      <th>14</th>\n",
       "      <td>مسابقات</td>\n",
       "      <td>قیمت</td>\n",
       "      <td>دلار</td>\n",
       "      <td>صحیفه</td>\n",
       "    </tr>\n",
       "    <tr>\n",
       "      <th>15</th>\n",
       "      <td>شورای</td>\n",
       "      <td>مسابقه</td>\n",
       "      <td>مسابقه</td>\n",
       "      <td>مشمئزکننده</td>\n",
       "    </tr>\n",
       "    <tr>\n",
       "      <th>16</th>\n",
       "      <td>مسابقه</td>\n",
       "      <td>آسیا</td>\n",
       "      <td>مجلس</td>\n",
       "      <td>ارتجاع</td>\n",
       "    </tr>\n",
       "    <tr>\n",
       "      <th>17</th>\n",
       "      <td>دلار</td>\n",
       "      <td>گذاری</td>\n",
       "      <td>قیمت</td>\n",
       "      <td>ذبیح</td>\n",
       "    </tr>\n",
       "    <tr>\n",
       "      <th>18</th>\n",
       "      <td>آسیا</td>\n",
       "      <td>صنایع</td>\n",
       "      <td>شورای</td>\n",
       "      <td>وصنایع</td>\n",
       "    </tr>\n",
       "    <tr>\n",
       "      <th>19</th>\n",
       "      <td>مردم</td>\n",
       "      <td>سرمایه</td>\n",
       "      <td>گذاری</td>\n",
       "      <td>توپخانه</td>\n",
       "    </tr>\n",
       "  </tbody>\n",
       "</table>\n",
       "</div>"
      ],
      "text/plain": [
       "   information gain1 chi squared1 mutual information_model_2  \\\n",
       "0              ورزشی        ورزشی                      ورزشی   \n",
       "1                تیم          تیم                        تیم   \n",
       "2            اجتماعی       فوتبال                     فوتبال   \n",
       "3              سیاسی          جام                      سیاسی   \n",
       "4             فوتبال        سیاسی                    اقتصادی   \n",
       "5            اقتصادی      اقتصادی                    اجتماعی   \n",
       "6               بازی         بازی                       بازی   \n",
       "7                جام      اجتماعی                        جام   \n",
       "8            قهرمانی      قهرمانی                    قهرمانی   \n",
       "9             اسلامی       بازیکن                     بازیکن   \n",
       "10            بازیکن     بازیکنان                     اسلامی   \n",
       "11              مجلس     فدراسیون                   بازیکنان   \n",
       "12          بازیکنان      مسابقات                   فدراسیون   \n",
       "13          فدراسیون         دلار                    مسابقات   \n",
       "14           مسابقات         قیمت                       دلار   \n",
       "15             شورای       مسابقه                     مسابقه   \n",
       "16            مسابقه         آسیا                       مجلس   \n",
       "17              دلار        گذاری                       قیمت   \n",
       "18              آسیا        صنایع                      شورای   \n",
       "19              مردم       سرمایه                      گذاری   \n",
       "\n",
       "   mutual information_model_1  \n",
       "0                  مایکروسافت  \n",
       "1                       باغات  \n",
       "2                     نباریدن  \n",
       "3                      آلیاژی  \n",
       "4                      دادمان  \n",
       "5                      فرازها  \n",
       "6                       سیاتل  \n",
       "7                        سخیف  \n",
       "8                    کارناوال  \n",
       "9                      تحتانی  \n",
       "10                      معراج  \n",
       "11                      خلافت  \n",
       "12                       نجیب  \n",
       "13                       زبون  \n",
       "14                      صحیفه  \n",
       "15                 مشمئزکننده  \n",
       "16                     ارتجاع  \n",
       "17                       ذبیح  \n",
       "18                     وصنایع  \n",
       "19                    توپخانه  "
      ]
     },
     "execution_count": 28,
     "metadata": {},
     "output_type": "execute_result"
    }
   ],
   "source": [
    "preview.head(20)"
   ]
  },
  {
   "cell_type": "markdown",
   "metadata": {},
   "source": [
    "## Output File\n",
    "The output files are stored in CSV format files. <br>\n",
    "These files contain 100 most important words for each metrics."
   ]
  },
  {
   "cell_type": "markdown",
   "metadata": {},
   "source": [
    "## Conclusion of Part 1 (Finding important words for classification)\n",
    "When we look at the last table we can see first three columns are similar to each other and have nearly the same words but last columns' (mutual information with formula 1) words differse from other columns <br>\n",
    "We can conclude that the Formula 1 has different behavior and probably is not efficient. So it is better to use formula 2 to calculate Mutual Information <br>\n",
    "<br>\n",
    "For more accurate comparisons on which of these three metrics are better, we can test it.<br>\n",
    "#### In part 2 we are going to test which metric is better, with a classification task."
   ]
  },
  {
   "cell_type": "markdown",
   "metadata": {},
   "source": [
    "# Part 2 (Classifying using words in part 1)\n",
    "In Part 1 we tried to find good features to vectorize documents. We used three metrics and extracted three set of 100 words. <br>\n",
    "Each document can be represented by the set of words that appear in the document. <br>\n",
    "In this part we want to use these sets of features to classify documents with __SVM__. <br>\n",
    "\n",
    "\n"
   ]
  },
  {
   "cell_type": "markdown",
   "metadata": {},
   "source": [
    "## Evaluation\n",
    "To evaluate our classification we used k-fold cross-validation with k=5. <br>\n",
    "We reported our average of these 5 confusion matrices."
   ]
  },
  {
   "cell_type": "markdown",
   "metadata": {},
   "source": [
    "   ## Vectorizing Documents\n",
    "   We wanted to vectorize our documents. We used 4 different methods:\n",
    "   > 1) Using 1000 most frequent words as features set <br>\n",
    "   > 2) Using Information Gain features <br>\n",
    "   > 3) Using Mutual Information features <br>\n",
    "   > 4) Using $\\chi$ square   features <br>\n",
    "   \n",
    "   "
   ]
  },
  {
   "cell_type": "markdown",
   "metadata": {},
   "source": [
    "## 1) Using 1000 most frequent words as feature set\n",
    "There is an ambiguity in defining the meaning of frequent. <br>\n",
    "> -  First meaning: A word is frequent if in lots of document there is at least one occurrence of this word. <br>\n",
    "> -  Second meaning: A word is frequent if the sum of the number of occurrence of this word in all documents is high. (Maybe in one document there are lots of occurrences but in another document, there is no occurrence.) <br> \n",
    "\n",
    "In this code, we chose the __first meaning__.\n"
   ]
  },
  {
   "cell_type": "code",
   "execution_count": 36,
   "metadata": {},
   "outputs": [
    {
     "data": {
      "text/html": [
       "<div>\n",
       "<style>\n",
       "    .dataframe thead tr:only-child th {\n",
       "        text-align: right;\n",
       "    }\n",
       "\n",
       "    .dataframe thead th {\n",
       "        text-align: left;\n",
       "    }\n",
       "\n",
       "    .dataframe tbody tr th {\n",
       "        vertical-align: top;\n",
       "    }\n",
       "</style>\n",
       "<table border=\"1\" class=\"dataframe\">\n",
       "  <thead>\n",
       "    <tr style=\"text-align: right;\">\n",
       "      <th></th>\n",
       "      <th>0</th>\n",
       "      <th>1</th>\n",
       "    </tr>\n",
       "  </thead>\n",
       "  <tbody>\n",
       "    <tr>\n",
       "      <th>0</th>\n",
       "      <td>8415</td>\n",
       "      <td>و</td>\n",
       "    </tr>\n",
       "    <tr>\n",
       "      <th>1</th>\n",
       "      <td>8352</td>\n",
       "      <td>در</td>\n",
       "    </tr>\n",
       "    <tr>\n",
       "      <th>2</th>\n",
       "      <td>8241</td>\n",
       "      <td>به</td>\n",
       "    </tr>\n",
       "    <tr>\n",
       "      <th>3</th>\n",
       "      <td>7956</td>\n",
       "      <td>از</td>\n",
       "    </tr>\n",
       "    <tr>\n",
       "      <th>4</th>\n",
       "      <td>7838</td>\n",
       "      <td>این</td>\n",
       "    </tr>\n",
       "    <tr>\n",
       "      <th>5</th>\n",
       "      <td>7382</td>\n",
       "      <td>با</td>\n",
       "    </tr>\n",
       "    <tr>\n",
       "      <th>6</th>\n",
       "      <td>7240</td>\n",
       "      <td>که</td>\n",
       "    </tr>\n",
       "    <tr>\n",
       "      <th>7</th>\n",
       "      <td>6923</td>\n",
       "      <td>را</td>\n",
       "    </tr>\n",
       "    <tr>\n",
       "      <th>8</th>\n",
       "      <td>6912</td>\n",
       "      <td>است</td>\n",
       "    </tr>\n",
       "    <tr>\n",
       "      <th>9</th>\n",
       "      <td>6859</td>\n",
       "      <td>می</td>\n",
       "    </tr>\n",
       "  </tbody>\n",
       "</table>\n",
       "</div>"
      ],
      "text/plain": [
       "      0    1\n",
       "0  8415    و\n",
       "1  8352   در\n",
       "2  8241   به\n",
       "3  7956   از\n",
       "4  7838  این\n",
       "5  7382   با\n",
       "6  7240   که\n",
       "7  6923   را\n",
       "8  6912  است\n",
       "9  6859   می"
      ]
     },
     "execution_count": 36,
     "metadata": {},
     "output_type": "execute_result"
    }
   ],
   "source": [
    "preview.head(10)"
   ]
  },
  {
   "cell_type": "markdown",
   "metadata": {},
   "source": [
    "The above words are 10  most frequent words in our dataset. And all of them are stop words.\n",
    "    "
   ]
  },
  {
   "cell_type": "markdown",
   "metadata": {},
   "source": [
    "### Making Vector X\n",
    "We want to make the vector for each document and then use this vectors for classification. <br>\n",
    "We used our 1000 words for vectorizing."
   ]
  },
  {
   "cell_type": "markdown",
   "metadata": {},
   "source": [
    "### Using SVM for classification "
   ]
  },
  {
   "cell_type": "markdown",
   "metadata": {},
   "source": [
    "We used svm classifier for our classification."
   ]
  },
  {
   "cell_type": "markdown",
   "metadata": {},
   "source": [
    "### Confusion Matrix for 1000 most frequent"
   ]
  },
  {
   "cell_type": "code",
   "execution_count": 41,
   "metadata": {},
   "outputs": [
    {
     "name": "stdout",
     "output_type": "stream",
     "text": [
      "accuracy: 0.8787209302325582 \n",
      "\n",
      "confusion matrix:\n",
      "\n"
     ]
    },
    {
     "data": {
      "text/html": [
       "<div>\n",
       "<style>\n",
       "    .dataframe thead tr:only-child th {\n",
       "        text-align: right;\n",
       "    }\n",
       "\n",
       "    .dataframe thead th {\n",
       "        text-align: left;\n",
       "    }\n",
       "\n",
       "    .dataframe tbody tr th {\n",
       "        vertical-align: top;\n",
       "    }\n",
       "</style>\n",
       "<table border=\"1\" class=\"dataframe\">\n",
       "  <thead>\n",
       "    <tr style=\"text-align: right;\">\n",
       "      <th></th>\n",
       "      <th>0</th>\n",
       "      <th>1</th>\n",
       "      <th>2</th>\n",
       "      <th>3</th>\n",
       "      <th>4</th>\n",
       "    </tr>\n",
       "  </thead>\n",
       "  <tbody>\n",
       "    <tr>\n",
       "      <th>0</th>\n",
       "      <td>389.0</td>\n",
       "      <td>2.2</td>\n",
       "      <td>0.0</td>\n",
       "      <td>6.4</td>\n",
       "      <td>2.4</td>\n",
       "    </tr>\n",
       "    <tr>\n",
       "      <th>1</th>\n",
       "      <td>0.2</td>\n",
       "      <td>414.2</td>\n",
       "      <td>0.2</td>\n",
       "      <td>6.4</td>\n",
       "      <td>19.0</td>\n",
       "    </tr>\n",
       "    <tr>\n",
       "      <th>2</th>\n",
       "      <td>1.2</td>\n",
       "      <td>10.8</td>\n",
       "      <td>37.2</td>\n",
       "      <td>44.2</td>\n",
       "      <td>6.6</td>\n",
       "    </tr>\n",
       "    <tr>\n",
       "      <th>3</th>\n",
       "      <td>1.6</td>\n",
       "      <td>18.4</td>\n",
       "      <td>1.6</td>\n",
       "      <td>300.6</td>\n",
       "      <td>37.8</td>\n",
       "    </tr>\n",
       "    <tr>\n",
       "      <th>4</th>\n",
       "      <td>1.0</td>\n",
       "      <td>19.2</td>\n",
       "      <td>0.0</td>\n",
       "      <td>29.4</td>\n",
       "      <td>370.4</td>\n",
       "    </tr>\n",
       "  </tbody>\n",
       "</table>\n",
       "</div>"
      ],
      "text/plain": [
       "       0      1     2      3      4\n",
       "0  389.0    2.2   0.0    6.4    2.4\n",
       "1    0.2  414.2   0.2    6.4   19.0\n",
       "2    1.2   10.8  37.2   44.2    6.6\n",
       "3    1.6   18.4   1.6  300.6   37.8\n",
       "4    1.0   19.2   0.0   29.4  370.4"
      ]
     },
     "execution_count": 41,
     "metadata": {},
     "output_type": "execute_result"
    }
   ],
   "source": [
    "print (\"accuracy:\", first_method_accuracy,'\\n')\n",
    "print (\"confusion matrix:\\n\")\n",
    "first_method_cm = confusion_matrix_avg\n",
    "pd.DataFrame(first_method_cm)"
   ]
  },
  {
   "cell_type": "markdown",
   "metadata": {},
   "source": [
    "## 2) Using 100-dimensional vector with Information Gain \n"
   ]
  },
  {
   "cell_type": "markdown",
   "metadata": {},
   "source": [
    "    "
   ]
  },
  {
   "cell_type": "code",
   "execution_count": 43,
   "metadata": {},
   "outputs": [
    {
     "data": {
      "text/html": [
       "<div>\n",
       "<style>\n",
       "    .dataframe thead tr:only-child th {\n",
       "        text-align: right;\n",
       "    }\n",
       "\n",
       "    .dataframe thead th {\n",
       "        text-align: left;\n",
       "    }\n",
       "\n",
       "    .dataframe tbody tr th {\n",
       "        vertical-align: top;\n",
       "    }\n",
       "</style>\n",
       "<table border=\"1\" class=\"dataframe\">\n",
       "  <thead>\n",
       "    <tr style=\"text-align: right;\">\n",
       "      <th></th>\n",
       "      <th>information_gain</th>\n",
       "      <th>word</th>\n",
       "    </tr>\n",
       "  </thead>\n",
       "  <tbody>\n",
       "    <tr>\n",
       "      <th>0</th>\n",
       "      <td>0.612973</td>\n",
       "      <td>ورزشی</td>\n",
       "    </tr>\n",
       "    <tr>\n",
       "      <th>1</th>\n",
       "      <td>0.516330</td>\n",
       "      <td>تیم</td>\n",
       "    </tr>\n",
       "    <tr>\n",
       "      <th>2</th>\n",
       "      <td>0.297086</td>\n",
       "      <td>اجتماعی</td>\n",
       "    </tr>\n",
       "    <tr>\n",
       "      <th>3</th>\n",
       "      <td>0.293313</td>\n",
       "      <td>سیاسی</td>\n",
       "    </tr>\n",
       "    <tr>\n",
       "      <th>4</th>\n",
       "      <td>0.283891</td>\n",
       "      <td>فوتبال</td>\n",
       "    </tr>\n",
       "    <tr>\n",
       "      <th>5</th>\n",
       "      <td>0.267878</td>\n",
       "      <td>اقتصادی</td>\n",
       "    </tr>\n",
       "    <tr>\n",
       "      <th>6</th>\n",
       "      <td>0.225276</td>\n",
       "      <td>بازی</td>\n",
       "    </tr>\n",
       "    <tr>\n",
       "      <th>7</th>\n",
       "      <td>0.223381</td>\n",
       "      <td>جام</td>\n",
       "    </tr>\n",
       "    <tr>\n",
       "      <th>8</th>\n",
       "      <td>0.197755</td>\n",
       "      <td>قهرمانی</td>\n",
       "    </tr>\n",
       "    <tr>\n",
       "      <th>9</th>\n",
       "      <td>0.177807</td>\n",
       "      <td>اسلامی</td>\n",
       "    </tr>\n",
       "  </tbody>\n",
       "</table>\n",
       "</div>"
      ],
      "text/plain": [
       "   information_gain     word\n",
       "0          0.612973    ورزشی\n",
       "1          0.516330      تیم\n",
       "2          0.297086  اجتماعی\n",
       "3          0.293313    سیاسی\n",
       "4          0.283891   فوتبال\n",
       "5          0.267878  اقتصادی\n",
       "6          0.225276     بازی\n",
       "7          0.223381      جام\n",
       "8          0.197755  قهرمانی\n",
       "9          0.177807   اسلامی"
      ]
     },
     "execution_count": 43,
     "metadata": {},
     "output_type": "execute_result"
    }
   ],
   "source": [
    "features.head(10)"
   ]
  },
  {
   "cell_type": "markdown",
   "metadata": {},
   "source": [
    "### Making Vector X\n",
    "We made vector for each document and then we used this vectors for classification with SVM."
   ]
  },
  {
   "cell_type": "code",
   "execution_count": 47,
   "metadata": {},
   "outputs": [
    {
     "name": "stdout",
     "output_type": "stream",
     "text": [
      "accuracy: 0.806279069767442 \n",
      "\n",
      "confusion matrix:\n",
      "\n"
     ]
    },
    {
     "data": {
      "text/html": [
       "<div>\n",
       "<style>\n",
       "    .dataframe thead tr:only-child th {\n",
       "        text-align: right;\n",
       "    }\n",
       "\n",
       "    .dataframe thead th {\n",
       "        text-align: left;\n",
       "    }\n",
       "\n",
       "    .dataframe tbody tr th {\n",
       "        vertical-align: top;\n",
       "    }\n",
       "</style>\n",
       "<table border=\"1\" class=\"dataframe\">\n",
       "  <thead>\n",
       "    <tr style=\"text-align: right;\">\n",
       "      <th></th>\n",
       "      <th>0</th>\n",
       "      <th>1</th>\n",
       "      <th>2</th>\n",
       "      <th>3</th>\n",
       "      <th>4</th>\n",
       "    </tr>\n",
       "  </thead>\n",
       "  <tbody>\n",
       "    <tr>\n",
       "      <th>0</th>\n",
       "      <td>376.0</td>\n",
       "      <td>7.6</td>\n",
       "      <td>0.2</td>\n",
       "      <td>11.4</td>\n",
       "      <td>4.8</td>\n",
       "    </tr>\n",
       "    <tr>\n",
       "      <th>1</th>\n",
       "      <td>1.4</td>\n",
       "      <td>382.6</td>\n",
       "      <td>0.2</td>\n",
       "      <td>22.0</td>\n",
       "      <td>33.8</td>\n",
       "    </tr>\n",
       "    <tr>\n",
       "      <th>2</th>\n",
       "      <td>4.0</td>\n",
       "      <td>24.0</td>\n",
       "      <td>7.2</td>\n",
       "      <td>55.0</td>\n",
       "      <td>9.8</td>\n",
       "    </tr>\n",
       "    <tr>\n",
       "      <th>3</th>\n",
       "      <td>2.4</td>\n",
       "      <td>30.8</td>\n",
       "      <td>1.0</td>\n",
       "      <td>268.8</td>\n",
       "      <td>57.0</td>\n",
       "    </tr>\n",
       "    <tr>\n",
       "      <th>4</th>\n",
       "      <td>2.4</td>\n",
       "      <td>31.6</td>\n",
       "      <td>0.2</td>\n",
       "      <td>33.6</td>\n",
       "      <td>352.2</td>\n",
       "    </tr>\n",
       "  </tbody>\n",
       "</table>\n",
       "</div>"
      ],
      "text/plain": [
       "       0      1    2      3      4\n",
       "0  376.0    7.6  0.2   11.4    4.8\n",
       "1    1.4  382.6  0.2   22.0   33.8\n",
       "2    4.0   24.0  7.2   55.0    9.8\n",
       "3    2.4   30.8  1.0  268.8   57.0\n",
       "4    2.4   31.6  0.2   33.6  352.2"
      ]
     },
     "execution_count": 47,
     "metadata": {},
     "output_type": "execute_result"
    }
   ],
   "source": [
    "print (\"accuracy:\", second_method_accuracy,'\\n')\n",
    "print (\"confusion matrix:\\n\")\n",
    "second_method_cm = confusion_matrix_avg\n",
    "pd.DataFrame(second_method_cm)"
   ]
  },
  {
   "cell_type": "markdown",
   "metadata": {},
   "source": [
    "## 3) Using 100-dimensional vector with Mutal Information\n",
    "We used the better formula for selecting 100 words."
   ]
  },
  {
   "cell_type": "code",
   "execution_count": 48,
   "metadata": {},
   "outputs": [],
   "source": [
    "features = pd.read_csv('mutual information.csv')"
   ]
  },
  {
   "cell_type": "code",
   "execution_count": 49,
   "metadata": {},
   "outputs": [
    {
     "data": {
      "text/html": [
       "<div>\n",
       "<style>\n",
       "    .dataframe thead tr:only-child th {\n",
       "        text-align: right;\n",
       "    }\n",
       "\n",
       "    .dataframe thead th {\n",
       "        text-align: left;\n",
       "    }\n",
       "\n",
       "    .dataframe tbody tr th {\n",
       "        vertical-align: top;\n",
       "    }\n",
       "</style>\n",
       "<table border=\"1\" class=\"dataframe\">\n",
       "  <thead>\n",
       "    <tr style=\"text-align: right;\">\n",
       "      <th></th>\n",
       "      <th>mutual information</th>\n",
       "      <th>main class score</th>\n",
       "      <th>main class</th>\n",
       "      <th>word</th>\n",
       "    </tr>\n",
       "  </thead>\n",
       "  <tbody>\n",
       "    <tr>\n",
       "      <th>0</th>\n",
       "      <td>0.202674</td>\n",
       "      <td>0.606665</td>\n",
       "      <td>ورزش</td>\n",
       "      <td>ورزشی</td>\n",
       "    </tr>\n",
       "    <tr>\n",
       "      <th>1</th>\n",
       "      <td>0.173929</td>\n",
       "      <td>0.512590</td>\n",
       "      <td>ورزش</td>\n",
       "      <td>تیم</td>\n",
       "    </tr>\n",
       "    <tr>\n",
       "      <th>2</th>\n",
       "      <td>0.099833</td>\n",
       "      <td>0.279402</td>\n",
       "      <td>ورزش</td>\n",
       "      <td>فوتبال</td>\n",
       "    </tr>\n",
       "    <tr>\n",
       "      <th>3</th>\n",
       "      <td>0.094818</td>\n",
       "      <td>0.258578</td>\n",
       "      <td>سیاسی</td>\n",
       "      <td>سیاسی</td>\n",
       "    </tr>\n",
       "    <tr>\n",
       "      <th>4</th>\n",
       "      <td>0.088517</td>\n",
       "      <td>0.232945</td>\n",
       "      <td>اقتصاد</td>\n",
       "      <td>اقتصادی</td>\n",
       "    </tr>\n",
       "    <tr>\n",
       "      <th>5</th>\n",
       "      <td>0.085858</td>\n",
       "      <td>0.265246</td>\n",
       "      <td>اجتماعی</td>\n",
       "      <td>اجتماعی</td>\n",
       "    </tr>\n",
       "    <tr>\n",
       "      <th>6</th>\n",
       "      <td>0.076582</td>\n",
       "      <td>0.209092</td>\n",
       "      <td>ورزش</td>\n",
       "      <td>بازی</td>\n",
       "    </tr>\n",
       "    <tr>\n",
       "      <th>7</th>\n",
       "      <td>0.076098</td>\n",
       "      <td>0.217883</td>\n",
       "      <td>ورزش</td>\n",
       "      <td>جام</td>\n",
       "    </tr>\n",
       "    <tr>\n",
       "      <th>8</th>\n",
       "      <td>0.070387</td>\n",
       "      <td>0.195426</td>\n",
       "      <td>ورزش</td>\n",
       "      <td>قهرمانی</td>\n",
       "    </tr>\n",
       "    <tr>\n",
       "      <th>9</th>\n",
       "      <td>0.056253</td>\n",
       "      <td>0.155666</td>\n",
       "      <td>ورزش</td>\n",
       "      <td>بازیکن</td>\n",
       "    </tr>\n",
       "  </tbody>\n",
       "</table>\n",
       "</div>"
      ],
      "text/plain": [
       "   mutual information  main class score main class     word\n",
       "0            0.202674          0.606665       ورزش    ورزشی\n",
       "1            0.173929          0.512590       ورزش      تیم\n",
       "2            0.099833          0.279402       ورزش   فوتبال\n",
       "3            0.094818          0.258578      سیاسی    سیاسی\n",
       "4            0.088517          0.232945     اقتصاد  اقتصادی\n",
       "5            0.085858          0.265246    اجتماعی  اجتماعی\n",
       "6            0.076582          0.209092       ورزش     بازی\n",
       "7            0.076098          0.217883       ورزش      جام\n",
       "8            0.070387          0.195426       ورزش  قهرمانی\n",
       "9            0.056253          0.155666       ورزش   بازیکن"
      ]
     },
     "execution_count": 49,
     "metadata": {},
     "output_type": "execute_result"
    }
   ],
   "source": [
    "features.head(10)"
   ]
  },
  {
   "cell_type": "code",
   "execution_count": 53,
   "metadata": {},
   "outputs": [
    {
     "name": "stdout",
     "output_type": "stream",
     "text": [
      "accuracy: 0.804186046511628 \n",
      "\n",
      "confusion matrix:\n",
      "\n"
     ]
    },
    {
     "data": {
      "text/html": [
       "<div>\n",
       "<style>\n",
       "    .dataframe thead tr:only-child th {\n",
       "        text-align: right;\n",
       "    }\n",
       "\n",
       "    .dataframe thead th {\n",
       "        text-align: left;\n",
       "    }\n",
       "\n",
       "    .dataframe tbody tr th {\n",
       "        vertical-align: top;\n",
       "    }\n",
       "</style>\n",
       "<table border=\"1\" class=\"dataframe\">\n",
       "  <thead>\n",
       "    <tr style=\"text-align: right;\">\n",
       "      <th></th>\n",
       "      <th>0</th>\n",
       "      <th>1</th>\n",
       "      <th>2</th>\n",
       "      <th>3</th>\n",
       "      <th>4</th>\n",
       "    </tr>\n",
       "  </thead>\n",
       "  <tbody>\n",
       "    <tr>\n",
       "      <th>0</th>\n",
       "      <td>375.2</td>\n",
       "      <td>8.2</td>\n",
       "      <td>0.0</td>\n",
       "      <td>11.4</td>\n",
       "      <td>5.2</td>\n",
       "    </tr>\n",
       "    <tr>\n",
       "      <th>1</th>\n",
       "      <td>1.4</td>\n",
       "      <td>379.8</td>\n",
       "      <td>0.2</td>\n",
       "      <td>22.6</td>\n",
       "      <td>36.0</td>\n",
       "    </tr>\n",
       "    <tr>\n",
       "      <th>2</th>\n",
       "      <td>3.8</td>\n",
       "      <td>23.0</td>\n",
       "      <td>7.0</td>\n",
       "      <td>56.4</td>\n",
       "      <td>9.8</td>\n",
       "    </tr>\n",
       "    <tr>\n",
       "      <th>3</th>\n",
       "      <td>2.0</td>\n",
       "      <td>31.4</td>\n",
       "      <td>1.0</td>\n",
       "      <td>270.0</td>\n",
       "      <td>55.6</td>\n",
       "    </tr>\n",
       "    <tr>\n",
       "      <th>4</th>\n",
       "      <td>2.4</td>\n",
       "      <td>31.2</td>\n",
       "      <td>0.2</td>\n",
       "      <td>35.0</td>\n",
       "      <td>351.2</td>\n",
       "    </tr>\n",
       "  </tbody>\n",
       "</table>\n",
       "</div>"
      ],
      "text/plain": [
       "       0      1    2      3      4\n",
       "0  375.2    8.2  0.0   11.4    5.2\n",
       "1    1.4  379.8  0.2   22.6   36.0\n",
       "2    3.8   23.0  7.0   56.4    9.8\n",
       "3    2.0   31.4  1.0  270.0   55.6\n",
       "4    2.4   31.2  0.2   35.0  351.2"
      ]
     },
     "execution_count": 53,
     "metadata": {},
     "output_type": "execute_result"
    }
   ],
   "source": [
    "print (\"accuracy:\", third_method_accuracy,'\\n')\n",
    "print (\"confusion matrix:\\n\")\n",
    "third_method_cm = confusion_matrix_avg\n",
    "pd.DataFrame(third_method_cm)"
   ]
  },
  {
   "cell_type": "markdown",
   "metadata": {},
   "source": [
    "## 4) Using 100-dimensional vector with $\\chi$ Squared\n"
   ]
  },
  {
   "cell_type": "code",
   "execution_count": 54,
   "metadata": {},
   "outputs": [],
   "source": [
    "features = pd.read_csv('chi squared.csv')"
   ]
  },
  {
   "cell_type": "code",
   "execution_count": 55,
   "metadata": {},
   "outputs": [
    {
     "data": {
      "text/html": [
       "<div>\n",
       "<style>\n",
       "    .dataframe thead tr:only-child th {\n",
       "        text-align: right;\n",
       "    }\n",
       "\n",
       "    .dataframe thead th {\n",
       "        text-align: left;\n",
       "    }\n",
       "\n",
       "    .dataframe tbody tr th {\n",
       "        vertical-align: top;\n",
       "    }\n",
       "</style>\n",
       "<table border=\"1\" class=\"dataframe\">\n",
       "  <thead>\n",
       "    <tr style=\"text-align: right;\">\n",
       "      <th></th>\n",
       "      <th>chi squared</th>\n",
       "      <th>main class score</th>\n",
       "      <th>main class</th>\n",
       "      <th>word</th>\n",
       "    </tr>\n",
       "  </thead>\n",
       "  <tbody>\n",
       "    <tr>\n",
       "      <th>0</th>\n",
       "      <td>2234.591600</td>\n",
       "      <td>7376.515420</td>\n",
       "      <td>ورزش</td>\n",
       "      <td>ورزشی</td>\n",
       "    </tr>\n",
       "    <tr>\n",
       "      <th>1</th>\n",
       "      <td>2028.186959</td>\n",
       "      <td>6701.136193</td>\n",
       "      <td>ورزش</td>\n",
       "      <td>تیم</td>\n",
       "    </tr>\n",
       "    <tr>\n",
       "      <th>2</th>\n",
       "      <td>1302.947803</td>\n",
       "      <td>4296.622009</td>\n",
       "      <td>ورزش</td>\n",
       "      <td>فوتبال</td>\n",
       "    </tr>\n",
       "    <tr>\n",
       "      <th>3</th>\n",
       "      <td>1050.289281</td>\n",
       "      <td>3459.737651</td>\n",
       "      <td>ورزش</td>\n",
       "      <td>جام</td>\n",
       "    </tr>\n",
       "    <tr>\n",
       "      <th>4</th>\n",
       "      <td>1043.478941</td>\n",
       "      <td>3138.957039</td>\n",
       "      <td>سیاسی</td>\n",
       "      <td>سیاسی</td>\n",
       "    </tr>\n",
       "    <tr>\n",
       "      <th>5</th>\n",
       "      <td>1029.481451</td>\n",
       "      <td>3055.759330</td>\n",
       "      <td>اقتصاد</td>\n",
       "      <td>اقتصادی</td>\n",
       "    </tr>\n",
       "    <tr>\n",
       "      <th>6</th>\n",
       "      <td>1027.311167</td>\n",
       "      <td>3254.137538</td>\n",
       "      <td>ورزش</td>\n",
       "      <td>بازی</td>\n",
       "    </tr>\n",
       "    <tr>\n",
       "      <th>7</th>\n",
       "      <td>967.923254</td>\n",
       "      <td>3299.353018</td>\n",
       "      <td>اجتماعی</td>\n",
       "      <td>اجتماعی</td>\n",
       "    </tr>\n",
       "    <tr>\n",
       "      <th>8</th>\n",
       "      <td>961.078769</td>\n",
       "      <td>3169.912598</td>\n",
       "      <td>ورزش</td>\n",
       "      <td>قهرمانی</td>\n",
       "    </tr>\n",
       "    <tr>\n",
       "      <th>9</th>\n",
       "      <td>772.041205</td>\n",
       "      <td>2558.041173</td>\n",
       "      <td>ورزش</td>\n",
       "      <td>بازیکن</td>\n",
       "    </tr>\n",
       "  </tbody>\n",
       "</table>\n",
       "</div>"
      ],
      "text/plain": [
       "   chi squared  main class score main class     word\n",
       "0  2234.591600       7376.515420       ورزش    ورزشی\n",
       "1  2028.186959       6701.136193       ورزش      تیم\n",
       "2  1302.947803       4296.622009       ورزش   فوتبال\n",
       "3  1050.289281       3459.737651       ورزش      جام\n",
       "4  1043.478941       3138.957039      سیاسی    سیاسی\n",
       "5  1029.481451       3055.759330     اقتصاد  اقتصادی\n",
       "6  1027.311167       3254.137538       ورزش     بازی\n",
       "7   967.923254       3299.353018    اجتماعی  اجتماعی\n",
       "8   961.078769       3169.912598       ورزش  قهرمانی\n",
       "9   772.041205       2558.041173       ورزش   بازیکن"
      ]
     },
     "execution_count": 55,
     "metadata": {},
     "output_type": "execute_result"
    }
   ],
   "source": [
    "features.head(10)"
   ]
  },
  {
   "cell_type": "code",
   "execution_count": 59,
   "metadata": {},
   "outputs": [
    {
     "name": "stdout",
     "output_type": "stream",
     "text": [
      "accuracy: 0.8025581395348838 \n",
      "\n",
      "confusion matrix:\n",
      "\n"
     ]
    },
    {
     "data": {
      "text/html": [
       "<div>\n",
       "<style>\n",
       "    .dataframe thead tr:only-child th {\n",
       "        text-align: right;\n",
       "    }\n",
       "\n",
       "    .dataframe thead th {\n",
       "        text-align: left;\n",
       "    }\n",
       "\n",
       "    .dataframe tbody tr th {\n",
       "        vertical-align: top;\n",
       "    }\n",
       "</style>\n",
       "<table border=\"1\" class=\"dataframe\">\n",
       "  <thead>\n",
       "    <tr style=\"text-align: right;\">\n",
       "      <th></th>\n",
       "      <th>0</th>\n",
       "      <th>1</th>\n",
       "      <th>2</th>\n",
       "      <th>3</th>\n",
       "      <th>4</th>\n",
       "    </tr>\n",
       "  </thead>\n",
       "  <tbody>\n",
       "    <tr>\n",
       "      <th>0</th>\n",
       "      <td>375.2</td>\n",
       "      <td>8.2</td>\n",
       "      <td>0.0</td>\n",
       "      <td>11.4</td>\n",
       "      <td>5.2</td>\n",
       "    </tr>\n",
       "    <tr>\n",
       "      <th>1</th>\n",
       "      <td>1.4</td>\n",
       "      <td>380.8</td>\n",
       "      <td>0.2</td>\n",
       "      <td>22.2</td>\n",
       "      <td>35.4</td>\n",
       "    </tr>\n",
       "    <tr>\n",
       "      <th>2</th>\n",
       "      <td>3.8</td>\n",
       "      <td>25.0</td>\n",
       "      <td>6.6</td>\n",
       "      <td>55.6</td>\n",
       "      <td>9.0</td>\n",
       "    </tr>\n",
       "    <tr>\n",
       "      <th>3</th>\n",
       "      <td>2.4</td>\n",
       "      <td>31.2</td>\n",
       "      <td>0.8</td>\n",
       "      <td>267.2</td>\n",
       "      <td>58.4</td>\n",
       "    </tr>\n",
       "    <tr>\n",
       "      <th>4</th>\n",
       "      <td>2.4</td>\n",
       "      <td>31.8</td>\n",
       "      <td>0.2</td>\n",
       "      <td>35.0</td>\n",
       "      <td>350.6</td>\n",
       "    </tr>\n",
       "  </tbody>\n",
       "</table>\n",
       "</div>"
      ],
      "text/plain": [
       "       0      1    2      3      4\n",
       "0  375.2    8.2  0.0   11.4    5.2\n",
       "1    1.4  380.8  0.2   22.2   35.4\n",
       "2    3.8   25.0  6.6   55.6    9.0\n",
       "3    2.4   31.2  0.8  267.2   58.4\n",
       "4    2.4   31.8  0.2   35.0  350.6"
      ]
     },
     "execution_count": 59,
     "metadata": {},
     "output_type": "execute_result"
    }
   ],
   "source": [
    "print (\"accuracy:\", forth_method_accuracy,'\\n')\n",
    "print (\"confusion matrix:\\n\")\n",
    "forth_method_cm = confusion_matrix_avg\n",
    "pd.DataFrame(forth_method_cm)"
   ]
  },
  {
   "cell_type": "markdown",
   "metadata": {},
   "source": [
    "## Comparision\n",
    "We compare our result with these 4 methods with confusion matrix and accuracy. <br>\n",
    "The result is as follows."
   ]
  },
  {
   "cell_type": "code",
   "execution_count": 60,
   "metadata": {},
   "outputs": [
    {
     "name": "stdout",
     "output_type": "stream",
     "text": [
      "accuracy:\n"
     ]
    },
    {
     "data": {
      "text/html": [
       "<div>\n",
       "<style>\n",
       "    .dataframe thead tr:only-child th {\n",
       "        text-align: right;\n",
       "    }\n",
       "\n",
       "    .dataframe thead th {\n",
       "        text-align: left;\n",
       "    }\n",
       "\n",
       "    .dataframe tbody tr th {\n",
       "        vertical-align: top;\n",
       "    }\n",
       "</style>\n",
       "<table border=\"1\" class=\"dataframe\">\n",
       "  <thead>\n",
       "    <tr style=\"text-align: right;\">\n",
       "      <th></th>\n",
       "      <th>1000words</th>\n",
       "      <th>InfoGain</th>\n",
       "      <th>chi squared</th>\n",
       "      <th>mutual info</th>\n",
       "    </tr>\n",
       "  </thead>\n",
       "  <tbody>\n",
       "    <tr>\n",
       "      <th>0</th>\n",
       "      <td>0.878721</td>\n",
       "      <td>0.806279</td>\n",
       "      <td>0.802558</td>\n",
       "      <td>0.804186</td>\n",
       "    </tr>\n",
       "  </tbody>\n",
       "</table>\n",
       "</div>"
      ],
      "text/plain": [
       "   1000words  InfoGain  chi squared  mutual info\n",
       "0   0.878721  0.806279     0.802558     0.804186"
      ]
     },
     "execution_count": 60,
     "metadata": {},
     "output_type": "execute_result"
    }
   ],
   "source": [
    "preview = pd.DataFrame({'1000words': [first_method_accuracy],\n",
    "                        'InfoGain': [second_method_accuracy],\n",
    "                        'mutual info': [third_method_accuracy],\n",
    "                        \"chi squared\": [forth_method_accuracy]})\n",
    "print (\"accuracy:\")\n",
    "preview"
   ]
  },
  {
   "cell_type": "code",
   "execution_count": 61,
   "metadata": {},
   "outputs": [
    {
     "name": "stdout",
     "output_type": "stream",
     "text": [
      "confusion matrix:\n",
      "\t1000 words\t\t\t IG \t\t \t MI \t\t   chi squared\n"
     ]
    },
    {
     "data": {
      "text/html": [
       "<div>\n",
       "<style>\n",
       "    .dataframe thead tr:only-child th {\n",
       "        text-align: right;\n",
       "    }\n",
       "\n",
       "    .dataframe thead th {\n",
       "        text-align: left;\n",
       "    }\n",
       "\n",
       "    .dataframe tbody tr th {\n",
       "        vertical-align: top;\n",
       "    }\n",
       "</style>\n",
       "<table border=\"1\" class=\"dataframe\">\n",
       "  <thead>\n",
       "    <tr style=\"text-align: right;\">\n",
       "      <th></th>\n",
       "      <th>0</th>\n",
       "      <th>1</th>\n",
       "      <th>2</th>\n",
       "      <th>3</th>\n",
       "      <th>4</th>\n",
       "      <th>0</th>\n",
       "      <th>1</th>\n",
       "      <th>2</th>\n",
       "      <th>3</th>\n",
       "      <th>4</th>\n",
       "      <th>0</th>\n",
       "      <th>1</th>\n",
       "      <th>2</th>\n",
       "      <th>3</th>\n",
       "      <th>4</th>\n",
       "      <th>0</th>\n",
       "      <th>1</th>\n",
       "      <th>2</th>\n",
       "      <th>3</th>\n",
       "      <th>4</th>\n",
       "    </tr>\n",
       "  </thead>\n",
       "  <tbody>\n",
       "    <tr>\n",
       "      <th>0</th>\n",
       "      <td>389.0</td>\n",
       "      <td>2.2</td>\n",
       "      <td>0.0</td>\n",
       "      <td>6.4</td>\n",
       "      <td>2.4</td>\n",
       "      <td>376.0</td>\n",
       "      <td>7.6</td>\n",
       "      <td>0.2</td>\n",
       "      <td>11.4</td>\n",
       "      <td>4.8</td>\n",
       "      <td>375.2</td>\n",
       "      <td>8.2</td>\n",
       "      <td>0.0</td>\n",
       "      <td>11.4</td>\n",
       "      <td>5.2</td>\n",
       "      <td>375.2</td>\n",
       "      <td>8.2</td>\n",
       "      <td>0.0</td>\n",
       "      <td>11.4</td>\n",
       "      <td>5.2</td>\n",
       "    </tr>\n",
       "    <tr>\n",
       "      <th>1</th>\n",
       "      <td>0.2</td>\n",
       "      <td>414.2</td>\n",
       "      <td>0.2</td>\n",
       "      <td>6.4</td>\n",
       "      <td>19.0</td>\n",
       "      <td>1.4</td>\n",
       "      <td>382.6</td>\n",
       "      <td>0.2</td>\n",
       "      <td>22.0</td>\n",
       "      <td>33.8</td>\n",
       "      <td>1.4</td>\n",
       "      <td>379.8</td>\n",
       "      <td>0.2</td>\n",
       "      <td>22.6</td>\n",
       "      <td>36.0</td>\n",
       "      <td>1.4</td>\n",
       "      <td>380.8</td>\n",
       "      <td>0.2</td>\n",
       "      <td>22.2</td>\n",
       "      <td>35.4</td>\n",
       "    </tr>\n",
       "    <tr>\n",
       "      <th>2</th>\n",
       "      <td>1.2</td>\n",
       "      <td>10.8</td>\n",
       "      <td>37.2</td>\n",
       "      <td>44.2</td>\n",
       "      <td>6.6</td>\n",
       "      <td>4.0</td>\n",
       "      <td>24.0</td>\n",
       "      <td>7.2</td>\n",
       "      <td>55.0</td>\n",
       "      <td>9.8</td>\n",
       "      <td>3.8</td>\n",
       "      <td>23.0</td>\n",
       "      <td>7.0</td>\n",
       "      <td>56.4</td>\n",
       "      <td>9.8</td>\n",
       "      <td>3.8</td>\n",
       "      <td>25.0</td>\n",
       "      <td>6.6</td>\n",
       "      <td>55.6</td>\n",
       "      <td>9.0</td>\n",
       "    </tr>\n",
       "    <tr>\n",
       "      <th>3</th>\n",
       "      <td>1.6</td>\n",
       "      <td>18.4</td>\n",
       "      <td>1.6</td>\n",
       "      <td>300.6</td>\n",
       "      <td>37.8</td>\n",
       "      <td>2.4</td>\n",
       "      <td>30.8</td>\n",
       "      <td>1.0</td>\n",
       "      <td>268.8</td>\n",
       "      <td>57.0</td>\n",
       "      <td>2.0</td>\n",
       "      <td>31.4</td>\n",
       "      <td>1.0</td>\n",
       "      <td>270.0</td>\n",
       "      <td>55.6</td>\n",
       "      <td>2.4</td>\n",
       "      <td>31.2</td>\n",
       "      <td>0.8</td>\n",
       "      <td>267.2</td>\n",
       "      <td>58.4</td>\n",
       "    </tr>\n",
       "    <tr>\n",
       "      <th>4</th>\n",
       "      <td>1.0</td>\n",
       "      <td>19.2</td>\n",
       "      <td>0.0</td>\n",
       "      <td>29.4</td>\n",
       "      <td>370.4</td>\n",
       "      <td>2.4</td>\n",
       "      <td>31.6</td>\n",
       "      <td>0.2</td>\n",
       "      <td>33.6</td>\n",
       "      <td>352.2</td>\n",
       "      <td>2.4</td>\n",
       "      <td>31.2</td>\n",
       "      <td>0.2</td>\n",
       "      <td>35.0</td>\n",
       "      <td>351.2</td>\n",
       "      <td>2.4</td>\n",
       "      <td>31.8</td>\n",
       "      <td>0.2</td>\n",
       "      <td>35.0</td>\n",
       "      <td>350.6</td>\n",
       "    </tr>\n",
       "  </tbody>\n",
       "</table>\n",
       "</div>"
      ],
      "text/plain": [
       "       0      1     2      3      4      0      1    2      3      4      0  \\\n",
       "0  389.0    2.2   0.0    6.4    2.4  376.0    7.6  0.2   11.4    4.8  375.2   \n",
       "1    0.2  414.2   0.2    6.4   19.0    1.4  382.6  0.2   22.0   33.8    1.4   \n",
       "2    1.2   10.8  37.2   44.2    6.6    4.0   24.0  7.2   55.0    9.8    3.8   \n",
       "3    1.6   18.4   1.6  300.6   37.8    2.4   30.8  1.0  268.8   57.0    2.0   \n",
       "4    1.0   19.2   0.0   29.4  370.4    2.4   31.6  0.2   33.6  352.2    2.4   \n",
       "\n",
       "       1    2      3      4      0      1    2      3      4  \n",
       "0    8.2  0.0   11.4    5.2  375.2    8.2  0.0   11.4    5.2  \n",
       "1  379.8  0.2   22.6   36.0    1.4  380.8  0.2   22.2   35.4  \n",
       "2   23.0  7.0   56.4    9.8    3.8   25.0  6.6   55.6    9.0  \n",
       "3   31.4  1.0  270.0   55.6    2.4   31.2  0.8  267.2   58.4  \n",
       "4   31.2  0.2   35.0  351.2    2.4   31.8  0.2   35.0  350.6  "
      ]
     },
     "execution_count": 61,
     "metadata": {},
     "output_type": "execute_result"
    }
   ],
   "source": [
    "preview = pd.concat([pd.DataFrame(first_method_confusion_matrix),       \n",
    "                     pd.DataFrame(second_method_confusion_matrix),\n",
    "                     pd.DataFrame(third_method_confusion_matrix),\n",
    "                     pd.DataFrame(forth_method_confusion_matrix)], axis=1)\n",
    "print (\"confusion matrix:\")\n",
    "print (\"\\t1000 words\\t\\t\\t IG \\t\\t \\t MI \\t\\t   chi squared\")\n",
    "preview"
   ]
  },
  {
   "cell_type": "markdown",
   "metadata": {},
   "source": [
    "## Visualization"
   ]
  },
  {
   "cell_type": "markdown",
   "metadata": {},
   "source": [
    "We are going to show each one in separated tables:"
   ]
  },
  {
   "cell_type": "code",
   "execution_count": 63,
   "metadata": {},
   "outputs": [
    {
     "data": {
      "image/png": "[encoded data removed]",
      "text/plain": [
       "<matplotlib.figure.Figure at 0xbe23382358>"
      ]
     },
     "metadata": {},
     "output_type": "display_data"
    }
   ],
   "source": [
    "# plt.figure()\n",
    "# plot_confusion_matrix(first_method_cm, classes=class_name,\n",
    "#                       title='Confusion matrix visualization for chi squared');\n",
    "plt.figure()\n",
    "plot_confusion_matrix(first_method_cm, classes=class_name,\n",
    "                      title='Confusion matrix visualization for 1000 most frequent_normalized', normalize=True);\n",
    "plt.show()"
   ]
  },
  {
   "cell_type": "code",
   "execution_count": 64,
   "metadata": {},
   "outputs": [
    {
     "data": {
      "image/png": "[encoded data removed]",
      "text/plain": [
       "<matplotlib.figure.Figure at 0xbe3531c630>"
      ]
     },
     "metadata": {},
     "output_type": "display_data"
    }
   ],
   "source": [
    "plt.figure()\n",
    "plot_confusion_matrix(second_method_cm, classes=class_name,\n",
    "                      title='Confusion matrix visualization for Information gain_normalized', normalize=True);\n",
    "plt.show()"
   ]
  },
  {
   "cell_type": "code",
   "execution_count": 65,
   "metadata": {},
   "outputs": [
    {
     "data": {
      "image/png": "[encoded data removed]",
      "text/plain": [
       "<matplotlib.figure.Figure at 0xbe353cf208>"
      ]
     },
     "metadata": {},
     "output_type": "display_data"
    }
   ],
   "source": [
    "plt.figure()\n",
    "plot_confusion_matrix(third_method_cm, classes=class_name,\n",
    "                      title='Confusion matrix visualization for Mutual information_normalized', normalize=True);\n",
    "plt.show()"
   ]
  },
  {
   "cell_type": "code",
   "execution_count": 66,
   "metadata": {},
   "outputs": [
    {
     "data": {
      "image/png": "[encoded data removed]",
      "text/plain": [
       "<matplotlib.figure.Figure at 0xbe3545da58>"
      ]
     },
     "metadata": {},
     "output_type": "display_data"
    }
   ],
   "source": [
    "plt.figure()\n",
    "plot_confusion_matrix(forth_method_cm, classes=class_name,\n",
    "                      title='Confusion matrix visualization for chi squared_normalized', normalize=True);\n",
    "plt.show()"
   ]
  },
  {
   "cell_type": "markdown",
   "metadata": {},
   "source": [
    "#### Now we want to test the result for most 100 frequent word vectors\n",
    "Because maybe this is not fair to compare 1000 frequent words with 100 words in other metrics."
   ]
  },
  {
   "cell_type": "markdown",
   "metadata": {},
   "source": [
    "#### Confusion Matrix for 100 most frequent"
   ]
  },
  {
   "cell_type": "code",
   "execution_count": 76,
   "metadata": {},
   "outputs": [
    {
     "name": "stdout",
     "output_type": "stream",
     "text": [
      "accuracy: 0.803953488372093 \n",
      "\n",
      "confusion matrix:\n",
      "\n"
     ]
    },
    {
     "data": {
      "text/html": [
       "<div>\n",
       "<style>\n",
       "    .dataframe thead tr:only-child th {\n",
       "        text-align: right;\n",
       "    }\n",
       "\n",
       "    .dataframe thead th {\n",
       "        text-align: left;\n",
       "    }\n",
       "\n",
       "    .dataframe tbody tr th {\n",
       "        vertical-align: top;\n",
       "    }\n",
       "</style>\n",
       "<table border=\"1\" class=\"dataframe\">\n",
       "  <thead>\n",
       "    <tr style=\"text-align: right;\">\n",
       "      <th></th>\n",
       "      <th>0</th>\n",
       "      <th>1</th>\n",
       "      <th>2</th>\n",
       "      <th>3</th>\n",
       "      <th>4</th>\n",
       "    </tr>\n",
       "  </thead>\n",
       "  <tbody>\n",
       "    <tr>\n",
       "      <th>0</th>\n",
       "      <td>375.6</td>\n",
       "      <td>8.2</td>\n",
       "      <td>0.0</td>\n",
       "      <td>11.4</td>\n",
       "      <td>4.8</td>\n",
       "    </tr>\n",
       "    <tr>\n",
       "      <th>1</th>\n",
       "      <td>1.4</td>\n",
       "      <td>382.4</td>\n",
       "      <td>0.4</td>\n",
       "      <td>22.0</td>\n",
       "      <td>33.8</td>\n",
       "    </tr>\n",
       "    <tr>\n",
       "      <th>2</th>\n",
       "      <td>3.2</td>\n",
       "      <td>24.8</td>\n",
       "      <td>7.2</td>\n",
       "      <td>55.2</td>\n",
       "      <td>9.6</td>\n",
       "    </tr>\n",
       "    <tr>\n",
       "      <th>3</th>\n",
       "      <td>1.8</td>\n",
       "      <td>30.8</td>\n",
       "      <td>1.0</td>\n",
       "      <td>267.4</td>\n",
       "      <td>59.0</td>\n",
       "    </tr>\n",
       "    <tr>\n",
       "      <th>4</th>\n",
       "      <td>2.4</td>\n",
       "      <td>32.6</td>\n",
       "      <td>0.2</td>\n",
       "      <td>34.6</td>\n",
       "      <td>350.2</td>\n",
       "    </tr>\n",
       "  </tbody>\n",
       "</table>\n",
       "</div>"
      ],
      "text/plain": [
       "       0      1    2      3      4\n",
       "0  375.6    8.2  0.0   11.4    4.8\n",
       "1    1.4  382.4  0.4   22.0   33.8\n",
       "2    3.2   24.8  7.2   55.2    9.6\n",
       "3    1.8   30.8  1.0  267.4   59.0\n",
       "4    2.4   32.6  0.2   34.6  350.2"
      ]
     },
     "execution_count": 76,
     "metadata": {},
     "output_type": "execute_result"
    }
   ],
   "source": [
    "print (\"accuracy:\", first_method_accuracy_100,'\\n')\n",
    "print (\"confusion matrix:\\n\")\n",
    "first_method_cm_100 = confusion_matrix_avg\n",
    "pd.DataFrame(first_method_cm_100)"
   ]
  },
  {
   "cell_type": "code",
   "execution_count": 77,
   "metadata": {},
   "outputs": [
    {
     "data": {
      "image/png": "[encoded data removed]",
      "text/plain": [
       "<matplotlib.figure.Figure at 0xbe354f9828>"
      ]
     },
     "metadata": {},
     "output_type": "display_data"
    }
   ],
   "source": [
    "plt.figure()\n",
    "plot_confusion_matrix(first_method_confusion_matrix_100, classes=class_name,\n",
    "                      title='Confusion matrix visualization for 100 most frequent_normalized', normalize=True);\n",
    "plt.show()"
   ]
  },
  {
   "cell_type": "markdown",
   "metadata": {},
   "source": [
    "## Conclusion\n",
    "We know that 1000 words are not best words because these words include stop words that they are not informative. But because they are 1000 words rather than 100 words, the result is going to be better. <br>\n",
    "We test a set of 100 most frequent words. The result was acc = 0.8049 which is similar to other three methods. We also show the confusion matrix for 100 most frequent in the last table above. And you can see this table is also similar to other three ones <br>\n",
    "So we can guess that there is no significant difference between choosing these metrics for selecting words in document classification task. <br> \n",
    "And we also know that Information Gain doesn't store every class information gains (We only stored one number Information Gain for every word). But we can consider each class information gain if we split the Sigma over classes in information gain formula.(And consider the meaning of Entropy for each class). So it has the same functionality as other metrics. <br>\n",
    "We guess that if the __dimension of our vector__ increase we probably are going to get more accuracy.<br>\n",
    "And also maybe if we use different features depending on __the sequence of words__ that appear each document, we can get more accuracy."
   ]
  }
 ],
 "metadata": {
  "kernelspec": {
   "display_name": "Python 3",
   "language": "python",
   "name": "python3"
  },
  "language_info": {
   "codemirror_mode": {
    "name": "ipython",
    "version": 3
   },
   "file_extension": ".py",
   "mimetype": "text/x-python",
   "name": "python",
   "nbconvert_exporter": "python",
   "pygments_lexer": "ipython3",
   "version": "3.5.1"
  }
 },
 "nbformat": 4,
 "nbformat_minor": 2
}
